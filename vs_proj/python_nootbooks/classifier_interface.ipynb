{
 "metadata": {
  "name": ""
 },
 "nbformat": 3,
 "nbformat_minor": 0,
 "worksheets": [
  {
   "cells": [
    {
     "cell_type": "code",
     "collapsed": false,
     "input": [
      "import numpy as np\n",
      "import object_recognition_toolkit as ort\n"
     ],
     "language": "python",
     "metadata": {},
     "outputs": [],
     "prompt_number": 1
    },
    {
     "cell_type": "code",
     "collapsed": false,
     "input": [
      "cls = ort.create_LinearSVC(0.0, np.array([[1.0, 0.5]], dtype=np.float32))\n",
      "cls.Predict.__doc__"
     ],
     "language": "python",
     "metadata": {},
     "outputs": [
      {
       "metadata": {},
       "output_type": "pyout",
       "prompt_number": 6,
       "text": [
        "'\\nPredict( (Classifier)arg1, (object)arg2) -> float :\\n\\n    C++ signature :\\n        double Predict(class object_recognition_toolkit::classification::Classifier {lvalue},class cv::Mat)\\n\\nPredict( (Classifier)arg1, (object)arg2) -> None :\\n\\n    C++ signature :\\n        void Predict(struct object_recognition_toolkit::classification::Classifier_Wrapper {lvalue},class cv::Mat)'"
       ]
      }
     ],
     "prompt_number": 6
    },
    {
     "cell_type": "code",
     "collapsed": false,
     "input": [
      "x = np.array([-1.0, 0.0], dtype=np.float32).reshape(1,2)\n",
      "cls.Predict(x)\n"
     ],
     "language": "python",
     "metadata": {},
     "outputs": [
      {
       "metadata": {},
       "output_type": "pyout",
       "prompt_number": 8,
       "text": [
        "-1.0"
       ]
      }
     ],
     "prompt_number": 8
    },
    {
     "cell_type": "code",
     "collapsed": false,
     "input": [],
     "language": "python",
     "metadata": {},
     "outputs": [],
     "prompt_number": 3
    }
   ],
   "metadata": {}
  }
 ]
}
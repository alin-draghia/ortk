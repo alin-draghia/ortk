{
 "metadata": {
  "name": ""
 },
 "nbformat": 3,
 "nbformat_minor": 0,
 "worksheets": [
  {
   "cells": [
    {
     "cell_type": "code",
     "collapsed": false,
     "input": [
      "%pylab inline\n",
      "import sys, os, gc\n",
      "sys.path.append('../bin')\n",
      "os.environ['PATH'] += (';../3rd-party/opencv/x64/vc12/bin')\n",
      "os.environ['PATH'] += (';../packages/boost_serialization-vc120.1.55.0.16/lib/native/address-model-64/lib')\n",
      "import cv2\n",
      "import pickle\n",
      "import unittest\n",
      "import difflib\n",
      "print 'My PID=', os.getpid()"
     ],
     "language": "python",
     "metadata": {},
     "outputs": [
      {
       "output_type": "stream",
       "stream": "stdout",
       "text": [
        "Populating the interactive namespace from numpy and matplotlib\n",
        "My PID= 11236\n"
       ]
      }
     ],
     "prompt_number": 1
    },
    {
     "cell_type": "code",
     "collapsed": false,
     "input": [
      "debug_ver = True\n",
      "if debug_ver:\n",
      "    import object_recognition_toolkitd as ort\n",
      "else:\n",
      "    import object_recognition_toolkit as ort"
     ],
     "language": "python",
     "metadata": {},
     "outputs": [],
     "prompt_number": 2
    },
    {
     "cell_type": "code",
     "collapsed": false,
     "input": [
      "print dir(ort)"
     ],
     "language": "python",
     "metadata": {},
     "outputs": [
      {
       "output_type": "stream",
       "stream": "stdout",
       "text": [
        "['BootstrappingDetectorTrainer', 'Box', 'BoxVector', 'Boxes', 'Classifier', 'Clonable', 'Dataset', 'Detector', 'DetectorTrainer', 'ExtractImages', 'FeatureExtractor', 'GroupRectanglesNms', 'HogFeatureExtractor', 'Image', 'ImageScanner', 'Images', 'LinearClassifier', 'LinearSvcTrainer', 'LoadDatasetDlib', 'LoadDatasetFiles', 'LoadDatasetPascalV1', 'LoadDatasetPascalXml', 'MatrixVec', 'MockPersonClassifier', 'Named', 'NonMaximaSuppressor', 'Pyramid', 'PyramidBuilder', 'PyramidLevel', 'Rect', 'Rectangle', 'Rectangles', 'SaveDatasetDlib', 'Size', 'Trainer', 'VecF32', 'VecF64', 'VecI32', 'VecStr', 'Window', 'WindowVector', '__doc__', '__file__', '__name__', '__package__', 'build_BootstrappingDetectorTrainer', 'build_Detector', 'build_DetectorMT', 'create_DenseImageScanner', 'create_FloatPyramidBuilder', 'create_GroupRectanglesNms', 'create_HogFeatureExtractor', 'create_PassThroughNms', 'test_mat_return', 'test_mat_vec_return']\n"
       ]
      }
     ],
     "prompt_number": 3
    },
    {
     "cell_type": "code",
     "collapsed": false,
     "input": [
      "print dir(ort.FeatureExtractor)"
     ],
     "language": "python",
     "metadata": {},
     "outputs": [
      {
       "output_type": "stream",
       "stream": "stdout",
       "text": [
        "['Clone', '__class__', '__delattr__', '__dict__', '__doc__', '__format__', '__getattribute__', '__getstate__', '__hash__', '__init__', '__instance_size__', '__module__', '__new__', '__reduce__', '__reduce_ex__', '__repr__', '__safe_for_unpickling__', '__setattr__', '__setstate__', '__sizeof__', '__str__', '__subclasshook__', '__weakref__', 'compute', 'lenght', 'name']\n"
       ]
      }
     ],
     "prompt_number": 4
    },
    {
     "cell_type": "code",
     "collapsed": false,
     "input": [
      "print dir(ort.Trainer)\n",
      "print ort.Trainer.Train.__doc__"
     ],
     "language": "python",
     "metadata": {},
     "outputs": [
      {
       "output_type": "stream",
       "stream": "stdout",
       "text": [
        "['Clone', 'Train', '__class__', '__delattr__', '__dict__', '__doc__', '__format__', '__getattribute__', '__getstate__', '__hash__', '__init__', '__instance_size__', '__module__', '__new__', '__reduce__', '__reduce_ex__', '__repr__', '__safe_for_unpickling__', '__setattr__', '__setstate__', '__sizeof__', '__str__', '__subclasshook__', '__weakref__', 'name']\n",
        "\n",
        "Train( (Trainer)arg1, (object)arg2, (object)arg3) -> Classifier :\n",
        "\n",
        "    C++ signature :\n",
        "        class object_recognition_toolkit::classification::Classifier * __ptr64 Train(class object_recognition_toolkit::classification::Trainer {lvalue},class cv::Mat,class cv::Mat)\n"
       ]
      }
     ],
     "prompt_number": 5
    },
    {
     "cell_type": "code",
     "collapsed": false,
     "input": [
      "print ort.create_FloatPyramidBuilder.__doc__"
     ],
     "language": "python",
     "metadata": {},
     "outputs": [
      {
       "output_type": "stream",
       "stream": "stdout",
       "text": [
        "\n",
        "create_FloatPyramidBuilder( (float)arg1, (Size)arg2, (Size)arg3) -> PyramidBuilder :\n",
        "\n",
        "    C++ signature :\n",
        "        class object_recognition_toolkit::pyramid::PyramidBuilder * __ptr64 create_FloatPyramidBuilder(double,class cv::Size_<int>,class cv::Size_<int>)\n"
       ]
      }
     ],
     "prompt_number": 6
    },
    {
     "cell_type": "code",
     "collapsed": false,
     "input": [],
     "language": "python",
     "metadata": {},
     "outputs": []
    }
   ],
   "metadata": {}
  }
 ]
}
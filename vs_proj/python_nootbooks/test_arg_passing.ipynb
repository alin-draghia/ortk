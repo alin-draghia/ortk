{
 "metadata": {
  "name": ""
 },
 "nbformat": 3,
 "nbformat_minor": 0,
 "worksheets": [
  {
   "cells": [
    {
     "cell_type": "code",
     "collapsed": false,
     "input": [
      "%pylab inline\n",
      "import sys, os, gc\n",
      "sys.path.append('../bin')\n",
      "os.environ['PATH'] += (';../3rd-party/opencv/x64/vc12/bin')\n",
      "os.environ['PATH'] += (';../packages/boost_serialization-vc120.1.55.0.16/lib/native/address-model-64/lib')\n",
      "import cv2\n",
      "import pickle\n",
      "import unittest\n",
      "import difflib\n",
      "print 'My PID=', os.getpid()"
     ],
     "language": "python",
     "metadata": {},
     "outputs": [
      {
       "output_type": "stream",
       "stream": "stdout",
       "text": [
        "Populating the interactive namespace from numpy and matplotlib\n",
        "My PID= 9592\n"
       ]
      }
     ],
     "prompt_number": 1
    },
    {
     "cell_type": "code",
     "collapsed": false,
     "input": [
      "debug_ver = True\n",
      "if debug_ver:\n",
      "    import object_recognition_toolkitd as ort\n",
      "else:\n",
      "    import object_recognition_toolkit as ort"
     ],
     "language": "python",
     "metadata": {},
     "outputs": [],
     "prompt_number": 2
    },
    {
     "cell_type": "code",
     "collapsed": false,
     "input": [
      "print dir(ort)"
     ],
     "language": "python",
     "metadata": {},
     "outputs": [
      {
       "output_type": "stream",
       "stream": "stdout",
       "text": [
        "['Box', 'BoxVector', 'Boxes', 'Classifier', 'Clonable', 'Dataset', 'Detector', 'DetectorTrainer', 'ExtractImages', 'FeatureExtractor', 'FloatPyramidBuilder', 'GroupRectanglesNms', 'Image', 'ImageScanner', 'Images', 'LinearClassifier', 'LinearSvcTrainer', 'LoadDatasetDlib', 'LoadDatasetFiles', 'LoadDatasetPascalV1', 'LoadDatasetPascalXml', 'MatrixVec', 'MockPersonClassifier', 'Named', 'NonMaximaSuppressor', 'Pyramid', 'PyramidBuilder', 'PyramidLevel', 'Rect', 'Rectangle', 'Rectangles', 'SaveDatasetDlib', 'Size', 'Trainer', 'VecF32', 'VecF64', 'VecI32', 'VecStr', 'Window', 'WindowVector', '__doc__', '__file__', '__name__', '__package__', 'build_Detector', 'build_DetectorMT', 'create_DenseImageScanner', 'create_FloatPyramidBuilder', 'create_GroupRectanglesNms', 'create_HogFeatureExtractor', 'create_PassThroughNms', 'print_name', 'print_pyramid_builder_ptr', 'pyramid_builder_build_ptr', 'test_mat_return', 'test_mat_vec_return']\n"
       ]
      }
     ],
     "prompt_number": 3
    },
    {
     "cell_type": "code",
     "collapsed": false,
     "input": [
      "ort._pyramid_register_debug_functions()\n",
      "print dir(ort)"
     ],
     "language": "python",
     "metadata": {},
     "outputs": [
      {
       "ename": "AttributeError",
       "evalue": "'NoneType' object has no attribute '__dict__'",
       "output_type": "pyerr",
       "traceback": [
        "\u001b[1;31m---------------------------------------------------------------------------\u001b[0m\n\u001b[1;31mAttributeError\u001b[0m                            Traceback (most recent call last)",
        "\u001b[1;32m<ipython-input-4-adef0d78b629>\u001b[0m in \u001b[0;36m<module>\u001b[1;34m()\u001b[0m\n\u001b[1;32m----> 1\u001b[1;33m \u001b[0mort\u001b[0m\u001b[1;33m.\u001b[0m\u001b[0m_pyramid_register_debug_functions\u001b[0m\u001b[1;33m(\u001b[0m\u001b[1;33m)\u001b[0m\u001b[1;33m\u001b[0m\u001b[0m\n\u001b[0m\u001b[0;32m      2\u001b[0m \u001b[1;32mprint\u001b[0m \u001b[0mdir\u001b[0m\u001b[1;33m(\u001b[0m\u001b[0mort\u001b[0m\u001b[1;33m)\u001b[0m\u001b[1;33m\u001b[0m\u001b[0m\n",
        "\u001b[1;31mAttributeError\u001b[0m: 'NoneType' object has no attribute '__dict__'"
       ]
      }
     ],
     "prompt_number": 4
    },
    {
     "cell_type": "code",
     "collapsed": false,
     "input": [
      "#test pyramid_builder\n",
      "\n",
      "pyr_scale_factor = 1.2\n",
      "\n",
      "pyr_min = ort.Size()\n",
      "pyr_min.width = 0;\n",
      "pyr_min.height = 0;\n",
      "\n",
      "pyr_max = ort.Size()\n",
      "pyr_max.width = 0;\n",
      "pyr_max.height = 0;\n",
      "\n",
      "pyramid_builder = ort.create_FloatPyramidBuilder(pyr_scale_factor, pyr_min, pyr_max)\n",
      "\n",
      "ort.print_pyramid_builder_ptr(pyramid_builder)\n"
     ],
     "language": "python",
     "metadata": {},
     "outputs": [],
     "prompt_number": 8
    },
    {
     "cell_type": "code",
     "collapsed": false,
     "input": [
      "#test float_pyramid_builder\n",
      "\n",
      "pyr_scale_factor = 1.2\n",
      "\n",
      "pyr_min = ort.Size()\n",
      "pyr_min.width = 0;\n",
      "pyr_min.height = 0;\n",
      "\n",
      "pyr_max = ort.Size()\n",
      "pyr_max.width = 0;\n",
      "pyr_max.height = 0;\n",
      "\n",
      "float_pyramid_builder = ort.FloatPyramidBuilder(pyr_scale_factor, pyr_min, pyr_max)\n",
      "\n",
      "ort.print_pyramid_builder_ptr(float_pyramid_builder)\n"
     ],
     "language": "python",
     "metadata": {},
     "outputs": [],
     "prompt_number": 9
    },
    {
     "cell_type": "code",
     "collapsed": false,
     "input": [
      "print dir(ort.PyramidBuilder)"
     ],
     "language": "python",
     "metadata": {},
     "outputs": [
      {
       "output_type": "stream",
       "stream": "stdout",
       "text": [
        "['Build', '__class__', '__delattr__', '__dict__', '__doc__', '__format__', '__getattribute__', '__getstate__', '__hash__', '__init__', '__instance_size__', '__module__', '__new__', '__reduce__', '__reduce_ex__', '__repr__', '__safe_for_unpickling__', '__setattr__', '__setstate__', '__sizeof__', '__str__', '__subclasshook__', '__weakref__', 'name']\n"
       ]
      }
     ],
     "prompt_number": 5
    },
    {
     "cell_type": "code",
     "collapsed": false,
     "input": [],
     "language": "python",
     "metadata": {},
     "outputs": [
      {
       "ename": "AttributeError",
       "evalue": "'NoneType' object has no attribute '__dict__'",
       "output_type": "pyerr",
       "traceback": [
        "\u001b[1;31m---------------------------------------------------------------------------\u001b[0m\n\u001b[1;31mAttributeError\u001b[0m                            Traceback (most recent call last)",
        "\u001b[1;32m<ipython-input-6-ca2aad8e4b4b>\u001b[0m in \u001b[0;36m<module>\u001b[1;34m()\u001b[0m\n\u001b[1;32m----> 1\u001b[1;33m \u001b[0mort\u001b[0m\u001b[1;33m.\u001b[0m\u001b[0m_pyramid_register_debug_functions\u001b[0m\u001b[1;33m(\u001b[0m\u001b[1;33m)\u001b[0m\u001b[1;33m\u001b[0m\u001b[0m\n\u001b[0m\u001b[0;32m      2\u001b[0m \u001b[1;32mprint\u001b[0m \u001b[0mdir\u001b[0m\u001b[1;33m(\u001b[0m\u001b[0mort\u001b[0m\u001b[1;33m.\u001b[0m\u001b[0mPyramidBuilder\u001b[0m\u001b[1;33m)\u001b[0m\u001b[1;33m\u001b[0m\u001b[0m\n",
        "\u001b[1;31mAttributeError\u001b[0m: 'NoneType' object has no attribute '__dict__'"
       ]
      }
     ],
     "prompt_number": 6
    },
    {
     "cell_type": "code",
     "collapsed": false,
     "input": [
      "print ort.PyramidBuilder.Build.__doc__"
     ],
     "language": "python",
     "metadata": {},
     "outputs": [
      {
       "output_type": "stream",
       "stream": "stdout",
       "text": [
        "\n",
        "Build( (PyramidBuilder)arg1, (object)arg2) -> Pyramid :\n",
        "\n",
        "    C++ signature :\n",
        "        class object_recognition_toolkit::pyramid::Pyramid Build(class object_recognition_toolkit::pyramid::PyramidBuilder {lvalue},class cv::Mat)\n",
        "\n",
        "Build( (PyramidBuilder)arg1, (object)arg2) -> None :\n",
        "\n",
        "    C++ signature :\n",
        "        void Build(struct object_recognition_toolkit::pyramid::PyramidBuilder_Wrapper {lvalue},class cv::Mat)\n"
       ]
      }
     ],
     "prompt_number": 7
    },
    {
     "cell_type": "code",
     "collapsed": false,
     "input": [
      "print ort.PyramidBuilder.__bases__"
     ],
     "language": "python",
     "metadata": {},
     "outputs": [
      {
       "output_type": "stream",
       "stream": "stdout",
       "text": [
        "(<type 'Boost.Python.instance'>,)\n"
       ]
      }
     ],
     "prompt_number": 8
    },
    {
     "cell_type": "code",
     "collapsed": false,
     "input": [
      "print ort.PyramidBuilder.__subclasses__()"
     ],
     "language": "python",
     "metadata": {},
     "outputs": [
      {
       "output_type": "stream",
       "stream": "stdout",
       "text": [
        "[<class 'object_recognition_toolkitd.FloatPyramidBuilder'>]\n"
       ]
      }
     ],
     "prompt_number": 9
    },
    {
     "cell_type": "code",
     "collapsed": false,
     "input": [
      "#test pyramid_builder python interface\n",
      "\n",
      "class MyPyramidBuilder(ort.PyramidBuilder):\n",
      "    \n",
      "    def __init__(self):\n",
      "        ort.PyramidBuilder.__init__(self)\n",
      "        self.name_ = \"MyPyramidBuilder\"\n",
      "        return\n",
      "        \n",
      "    def name(self):\n",
      "        return self.name_\n",
      "    \n",
      "    def Clone():\n",
      "        return MyPyramidBuilder()\n",
      "    \n"
     ],
     "language": "python",
     "metadata": {},
     "outputs": [],
     "prompt_number": 3
    },
    {
     "cell_type": "code",
     "collapsed": false,
     "input": [
      "my_pyramid_builder = MyPyramidBuilder()\n",
      "\n",
      "ort.print_pyramid_builder_ptr(my_pyramid_builder)"
     ],
     "language": "python",
     "metadata": {},
     "outputs": [],
     "prompt_number": 4
    },
    {
     "cell_type": "code",
     "collapsed": false,
     "input": [
      "class MyPyramidBuilder2(ort.PyramidBuilder):\n",
      "    \n",
      "    def __init__(self):\n",
      "        \n",
      "        ort.PyramidBuilder.__init__(self)\n",
      "        self.name_ = \"MyPyramidBuilder2\"\n",
      "        \n",
      "        min_size = ort.Size()\n",
      "        max_size = ort.Size()\n",
      "        \n",
      "        self.builder_ = ort.FloatPyramidBuilder(1.2, min_size, max_size)\n",
      "        return\n",
      "        \n",
      "    def name(self):\n",
      "        return self.name_ + '[' + self.builder_.name() + ']'\n",
      "    \n",
      "    def Build(self, image):\n",
      "        pyr =  self.builder_.Build(image)\n",
      "        print 'build(im)->', pyr\n",
      "        pyr0 = ort.Pyramid()\n",
      "        pyr0.AddLevel(pyr.GetLevel(0))\n",
      "        pyr0.AddLevel(pyr.GetLevel(1))\n",
      "        return pyr0\n",
      "    \n",
      "    def Clone():\n",
      "        return MyPyramidBuilder()"
     ],
     "language": "python",
     "metadata": {},
     "outputs": [],
     "prompt_number": 3
    },
    {
     "cell_type": "code",
     "collapsed": false,
     "input": [
      "my_pyramid_builder2 = MyPyramidBuilder2()\n",
      "\n",
      "ort.print_pyramid_builder_ptr(my_pyramid_builder2)"
     ],
     "language": "python",
     "metadata": {},
     "outputs": [],
     "prompt_number": 4
    },
    {
     "cell_type": "code",
     "collapsed": false,
     "input": [
      "im = zeros(shape=(240,320))\n",
      "pyr = my_pyramid_builder2.Build(im)"
     ],
     "language": "python",
     "metadata": {},
     "outputs": [
      {
       "output_type": "stream",
       "stream": "stdout",
       "text": [
        "build(im)-> <object_recognition_toolkitd.Pyramid object at 0x0000000009CF9E48>\n"
       ]
      }
     ],
     "prompt_number": 5
    },
    {
     "cell_type": "code",
     "collapsed": false,
     "input": [
      "pyr.GetNumLevels()"
     ],
     "language": "python",
     "metadata": {},
     "outputs": [
      {
       "metadata": {},
       "output_type": "pyout",
       "prompt_number": 6,
       "text": [
        "2"
       ]
      }
     ],
     "prompt_number": 6
    },
    {
     "cell_type": "code",
     "collapsed": false,
     "input": [
      "ort.pyramid_builder_build_ptr(my_pyramid_builder2, im)"
     ],
     "language": "python",
     "metadata": {},
     "outputs": [
      {
       "output_type": "stream",
       "stream": "stdout",
       "text": [
        "build(im)-> <object_recognition_toolkitd.Pyramid object at 0x0000000009CF9E48>\n"
       ]
      }
     ],
     "prompt_number": 7
    },
    {
     "cell_type": "code",
     "collapsed": false,
     "input": [
      "ort.pyramid_builder_build_aptr(my_pyramid_builder2, im)"
     ],
     "language": "python",
     "metadata": {},
     "outputs": [
      {
       "ename": "ArgumentError",
       "evalue": "Python argument types in\n    object_recognition_toolkitd.pyramid_builder_build_aptr(MyPyramidBuilder2, numpy.ndarray)\ndid not match C++ signature:\n    pyramid_builder_build_aptr(class std::auto_ptr<class object_recognition_toolkit::pyramid::PyramidBuilder> {lvalue}, class cv::Mat)",
       "output_type": "pyerr",
       "traceback": [
        "\u001b[1;31m---------------------------------------------------------------------------\u001b[0m\n\u001b[1;31mArgumentError\u001b[0m                             Traceback (most recent call last)",
        "\u001b[1;32m<ipython-input-10-f83af7cbc27c>\u001b[0m in \u001b[0;36m<module>\u001b[1;34m()\u001b[0m\n\u001b[1;32m----> 1\u001b[1;33m \u001b[0mort\u001b[0m\u001b[1;33m.\u001b[0m\u001b[0mpyramid_builder_build_aptr\u001b[0m\u001b[1;33m(\u001b[0m\u001b[0mmy_pyramid_builder2\u001b[0m\u001b[1;33m,\u001b[0m \u001b[0mim\u001b[0m\u001b[1;33m)\u001b[0m\u001b[1;33m\u001b[0m\u001b[0m\n\u001b[0m",
        "\u001b[1;31mArgumentError\u001b[0m: Python argument types in\n    object_recognition_toolkitd.pyramid_builder_build_aptr(MyPyramidBuilder2, numpy.ndarray)\ndid not match C++ signature:\n    pyramid_builder_build_aptr(class std::auto_ptr<class object_recognition_toolkit::pyramid::PyramidBuilder> {lvalue}, class cv::Mat)"
       ]
      }
     ],
     "prompt_number": 10
    },
    {
     "cell_type": "code",
     "collapsed": false,
     "input": [],
     "language": "python",
     "metadata": {},
     "outputs": []
    }
   ],
   "metadata": {}
  }
 ]
}
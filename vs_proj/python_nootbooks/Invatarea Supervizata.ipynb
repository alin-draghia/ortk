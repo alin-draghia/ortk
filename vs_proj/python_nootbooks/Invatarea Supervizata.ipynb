{
 "metadata": {
  "name": ""
 },
 "nbformat": 3,
 "nbformat_minor": 0,
 "worksheets": [
  {
   "cells": [
    {
     "cell_type": "code",
     "collapsed": false,
     "input": [
      "from sklearn.datasets import make_regression\n",
      "import matplotlib.pyplot as plt\n",
      "X, y, c = make_regression(n_samples=30, n_features=1, n_informative=1,coef=True, noise=6.0, bias=-3)\n",
      "ax = plt.gca()\n",
      "plt.title('Regresie')\n",
      "pts = ax.scatter(X,y, c='red', label=r'${ \\mathcal{D} = \\{(x_i,y_i)|x_i \\in X, y_i \\in Y\\}|_{i=1}^n }$')\n",
      "line, = ax.plot(X, X*c, c='green', label=r'${f(x)\\approx y}$')\n",
      "plt.xlabel('x')\n",
      "plt.ylabel('y')\n",
      "ax.legend(loc='upper left')\n",
      "plt.show()"
     ],
     "language": "python",
     "metadata": {},
     "outputs": [],
     "prompt_number": 4
    },
    {
     "cell_type": "code",
     "collapsed": false,
     "input": [
      "from sklearn.datasets import make_classification, make_blobs\n",
      "from sklearn.linear_model import Perceptron\n",
      "import numpy as np\n",
      "import matplotlib.pyplot as plt\n",
      "X, y = make_blobs(n_samples=50, centers=2, random_state=0, cluster_std=0.60)\n",
      "\n",
      "plt.title('Clasificare')\n",
      "\n",
      "classifier = Perceptron()\n",
      "classifier.fit(X,y)\n",
      "score = classifier.score(X,y)\n",
      "print 'score=', score\n",
      "\n",
      "xx = np.linspace(0,+4)\n",
      "yy = np.linspace(0,+4)\n",
      "X1, X2 = np.meshgrid(xx,yy)\n",
      "Z = np.empty(X1.shape)\n",
      "for (i,j), val in np.ndenumerate(X1):\n",
      "    x1 = val\n",
      "    x2 = X2[i,j]\n",
      "    p = classifier.decision_function([x1,x2])\n",
      "    Z[i,j] = p[0]\n",
      "\n",
      "levels=[-1.0, 0.0, 1.0]\n",
      "linestyles = ['dashed','solid','dashed']\n",
      "linewidths = [1.0, 2.5, 1.0]\n",
      "colors=['black', 'green', 'black']\n",
      "c = plt.contour(X1, X2, Z, levels, colors=colors, \n",
      "                linewidths=linewidths, linestyles=linestyles)\n",
      "c.collections[1].set_label('classifier')\n",
      "\n",
      "pos_idx = y == 1\n",
      "neg_idx = y == 0\n",
      "plt.scatter(X[pos_idx,0], X[pos_idx,1], c='blue', s=100, label='pos')\n",
      "plt.scatter(X[neg_idx,0], X[neg_idx,1], c='red', s=100, label='neg')\n",
      "\n",
      "plt.xlabel('x0')\n",
      "plt.ylabel('x1')\n",
      "ax = plt.gca()\n",
      "ax.legend()\n",
      "plt.show()"
     ],
     "language": "python",
     "metadata": {},
     "outputs": [
      {
       "output_type": "stream",
       "stream": "stdout",
       "text": [
        "score= 1.0\n"
       ]
      }
     ],
     "prompt_number": 17
    },
    {
     "cell_type": "code",
     "collapsed": false,
     "input": [],
     "language": "python",
     "metadata": {},
     "outputs": [],
     "prompt_number": 11
    },
    {
     "cell_type": "code",
     "collapsed": false,
     "input": [],
     "language": "python",
     "metadata": {},
     "outputs": []
    }
   ],
   "metadata": {}
  }
 ]
}
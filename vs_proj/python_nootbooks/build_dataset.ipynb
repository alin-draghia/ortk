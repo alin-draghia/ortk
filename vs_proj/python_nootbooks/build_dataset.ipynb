{
 "metadata": {
  "name": ""
 },
 "nbformat": 3,
 "nbformat_minor": 0,
 "worksheets": [
  {
   "cells": [
    {
     "cell_type": "code",
     "collapsed": false,
     "input": [
      "%pylab inline\n",
      "import sys, os, gc\n",
      "sys.path.append('../bin')\n",
      "os.environ['PATH'] += (';../3rd-party/opencv/x64/vc12/bin')\n",
      "os.environ['PATH'] += (';../packages/boost_serialization-vc120.1.55.0.16/lib/native/address-model-64/lib')\n",
      "import cv2\n",
      "import pickle\n",
      "import unittest\n",
      "import difflib\n",
      "print 'My PID=', os.getpid()"
     ],
     "language": "python",
     "metadata": {},
     "outputs": [
      {
       "output_type": "stream",
       "stream": "stdout",
       "text": [
        "Populating the interactive namespace from numpy and matplotlib\n",
        "My PID="
       ]
      },
      {
       "output_type": "stream",
       "stream": "stdout",
       "text": [
        " 5424\n"
       ]
      }
     ],
     "prompt_number": 1
    },
    {
     "cell_type": "code",
     "collapsed": false,
     "input": [
      "debug_ver = True\n",
      "if debug_ver:\n",
      "    import object_recognition_toolkitd as ort\n",
      "else:\n",
      "    import object_recognition_toolkit as ort"
     ],
     "language": "python",
     "metadata": {},
     "outputs": [],
     "prompt_number": 2
    },
    {
     "cell_type": "code",
     "collapsed": false,
     "input": [
      "INRIAPerson = '../../datasets/INRIAPerson'\n",
      "INRIAPerson_metadata = os.path.join(INRIAPerson, './Train/annotations')\n",
      "positive_annotations  = [os.path.join(INRIAPerson_metadata, x) for x in os.listdir(INRIAPerson_metadata)]\n",
      "\n",
      "positive_annotations_VecStr = ort.VecStr()\n",
      "positive_annotations_VecStr[:] = positive_annotations[:]\n",
      "\n",
      "positive_dataset = ort.Dataset()\n",
      "ort.LoadDatasetPascalV1(positive_annotations_VecStr, positive_dataset, '.')\n",
      "\n",
      "for im in positive_dataset.images:\n",
      "    im.filename = os.path.relpath(os.path.join(INRIAPerson, im.filename))\n",
      "    \n",
      "ort.SaveDatasetDlib(\"positive_train_dataset_no_crop.xml\", positive_dataset)\n",
      "\n",
      "\n",
      "\n",
      "INRIAPerson_TrainNeagiveDir = os.path.join(INRIAPerson, 'Train', 'neg') \n",
      "negative_images_filenames = [os.path.join(INRIAPerson_TrainNeagiveDir, x) for x in os.listdir(INRIAPerson_TrainNeagiveDir)]\n",
      "negative_images_filenames_VecStr = ort.VecStr()\n",
      "negative_images_filenames_VecStr[:] = negative_images_filenames[:]\n",
      "\n",
      "negative_dataset = ort.Dataset()\n",
      "ort.LoadDatasetFiles(negative_images_filenames_VecStr, negative_dataset)\n",
      "\n",
      "for im in negative_dataset.images:\n",
      "    im.filename = os.path.relpath(os.path.join(INRIAPerson, im.filename))\n",
      "    \n",
      "ort.SaveDatasetDlib(\"negative_train_dataset.xml\", negative_dataset)\n"
     ],
     "language": "python",
     "metadata": {},
     "outputs": [],
     "prompt_number": 3
    },
    {
     "cell_type": "code",
     "collapsed": false,
     "input": [
      "positive_dataset_crop_dir = r'..\\..\\datasets\\INRIAPerson\\train_64x128_H96\\pos'\n",
      "positive_dataset_crop = ort.Dataset()\n",
      "positive_dataset_crop_filenames = ort.VecStr()\n",
      "positive_dataset_crop_filenames[:] = [os.path.join(positive_dataset_crop_dir, x) for x in os.listdir(positive_dataset_crop_dir)]\n",
      "ort.LoadDatasetFiles(positive_dataset_crop_filenames, positive_dataset_crop)\n",
      "\n",
      "\n",
      "box = ort.Box()\n",
      "#box.label = \"UprightPerson\"\n",
      "box.rect.left = 15\n",
      "box.rect.top = 15\n",
      "box.rect.right = box.rect.left + 64 - 1\n",
      "box.rect.bottom = box.rect.top + 128 - 1\n",
      "\n",
      "\n",
      "for im in positive_dataset_crop.images:\n",
      "    im.filename = os.path.relpath(os.path.join(INRIAPerson, im.filename))\n",
      "    im.boxes.append(box)\n",
      "    \n",
      "ort.SaveDatasetDlib(\"positive_train_dataset_crop.xml\", positive_dataset_crop)\n",
      "    "
     ],
     "language": "python",
     "metadata": {},
     "outputs": [],
     "prompt_number": 4
    },
    {
     "cell_type": "code",
     "collapsed": false,
     "input": [
      "im0 = positive_dataset_crop.images[0]"
     ],
     "language": "python",
     "metadata": {},
     "outputs": [],
     "prompt_number": 5
    },
    {
     "cell_type": "code",
     "collapsed": false,
     "input": [
      "len(im0.boxes)"
     ],
     "language": "python",
     "metadata": {},
     "outputs": [
      {
       "metadata": {},
       "output_type": "pyout",
       "prompt_number": 6,
       "text": [
        "1"
       ]
      }
     ],
     "prompt_number": 6
    },
    {
     "cell_type": "code",
     "collapsed": false,
     "input": [],
     "language": "python",
     "metadata": {},
     "outputs": []
    }
   ],
   "metadata": {}
  }
 ]
}
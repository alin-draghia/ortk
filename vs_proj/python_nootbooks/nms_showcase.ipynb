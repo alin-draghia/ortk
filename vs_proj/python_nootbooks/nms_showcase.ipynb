{
 "metadata": {
  "name": ""
 },
 "nbformat": 3,
 "nbformat_minor": 0,
 "worksheets": [
  {
   "cells": [
    {
     "cell_type": "code",
     "collapsed": false,
     "input": [
      "import sys, os\n",
      "sys.path.append('../bin')\n",
      "os.environ['PATH'] += (';../3rd-party/opencv/x64/vc12/bin')\n",
      "os.environ['PATH'] += (';../packages/boost_serialization-vc120.1.55.0.16/lib/native/address-model-64/lib')\n",
      "import cv2\n",
      "import pickle\n",
      "import pprint\n",
      "import inspect\n",
      "from matplotlib import pyplot as plt\n",
      "import object_recognition_toolkit as ort"
     ],
     "language": "python",
     "metadata": {},
     "outputs": [],
     "prompt_number": 1
    },
    {
     "cell_type": "code",
     "collapsed": false,
     "input": [
      "im_ = cv2.imread('crop_000003.png')"
     ],
     "language": "python",
     "metadata": {},
     "outputs": [],
     "prompt_number": 2
    },
    {
     "cell_type": "code",
     "collapsed": false,
     "input": [
      "gray = cv2.cvtColor(im_, cv2.COLOR_BGR2GRAY)\n"
     ],
     "language": "python",
     "metadata": {},
     "outputs": [],
     "prompt_number": 3
    },
    {
     "cell_type": "code",
     "collapsed": false,
     "input": [
      "det = ort.DetectorBaseMt()\n",
      "print dir(det)"
     ],
     "language": "python",
     "metadata": {},
     "outputs": [
      {
       "output_type": "stream",
       "stream": "stdout",
       "text": [
        "['Clone', 'Detect', '__class__', '__delattr__', '__dict__', '__doc__', '__format__', '__getattribute__', '__getstate__', '__hash__', '__init__', '__instance_size__', '__module__', '__new__', '__reduce__', '__reduce_ex__', '__repr__', '__safe_for_unpickling__', '__setattr__', '__setstate__', '__sizeof__', '__str__', '__subclasshook__', '__weakref__', 'classifier', 'feature_extractor', 'image_scanner', 'non_maxima_suppressor', 'pyramid_builder']\n"
       ]
      }
     ],
     "prompt_number": 4
    },
    {
     "cell_type": "code",
     "collapsed": false,
     "input": [
      "fe = ort.HogFeatureExtractor()\n",
      "cls = ort.MockPersonClassifier()\n",
      "scn = ort.DenseImageScanner(ort.Size(64,128), ort.Size(8,8), ort.Size())\n",
      "nms = ort.GroupRectanglesNms()\n",
      "nms0 = ort.PassThroughNms()\n",
      "pb = ort.FloatPyramidBuilder(1.1, ort.Size(64,128), ort.Size())"
     ],
     "language": "python",
     "metadata": {},
     "outputs": [],
     "prompt_number": 13
    },
    {
     "cell_type": "code",
     "collapsed": false,
     "input": [],
     "language": "python",
     "metadata": {},
     "outputs": [],
     "prompt_number": 5
    },
    {
     "cell_type": "code",
     "collapsed": false,
     "input": [
      "det.feature_extractor = fe\n",
      "det.classifier = cls\n",
      "det.image_scanner = scn\n",
      "det.non_maxima_suppressor = nms0\n",
      "det.pyramid_builder = pb"
     ],
     "language": "python",
     "metadata": {},
     "outputs": [],
     "prompt_number": 14
    },
    {
     "cell_type": "code",
     "collapsed": false,
     "input": [
      "det.non_maxima_suppressor = nms0\n",
      "dets = ort.BoxVector()\n",
      "confs = ort.VecF64()\n",
      "det.Detect(gray, dets, confs, 0.0)"
     ],
     "language": "python",
     "metadata": {},
     "outputs": [],
     "prompt_number": 30
    },
    {
     "cell_type": "code",
     "collapsed": false,
     "input": [
      "im_nms0 = cv2.cvtColor(im_, cv2.COLOR_BGR2RGB)\n",
      "for d in dets:\n",
      "    x = d.x\n",
      "    y = d.y\n",
      "    w = d.width\n",
      "    h = d.height\n",
      "    cv2.rectangle(im_nms0, (x,y), (x+w,y+h), (0,255,0))"
     ],
     "language": "python",
     "metadata": {},
     "outputs": [],
     "prompt_number": 31
    },
    {
     "cell_type": "code",
     "collapsed": false,
     "input": [
      "det.non_maxima_suppressor = nms\n",
      "dets = ort.BoxVector()\n",
      "confs = ort.VecF64()\n",
      "det.Detect(gray, dets, confs, 0.0)"
     ],
     "language": "python",
     "metadata": {},
     "outputs": [],
     "prompt_number": 32
    },
    {
     "cell_type": "code",
     "collapsed": false,
     "input": [
      "im_nms1 = cv2.cvtColor(im_, cv2.COLOR_BGR2RGB)\n",
      "for d in dets:\n",
      "    x = d.x\n",
      "    y = d.y\n",
      "    w = d.width\n",
      "    h = d.height\n",
      "    cv2.rectangle(im_nms1, (x,y), (x+w,y+h), (0,255,0))"
     ],
     "language": "python",
     "metadata": {},
     "outputs": [],
     "prompt_number": 33
    },
    {
     "cell_type": "code",
     "collapsed": false,
     "input": [],
     "language": "python",
     "metadata": {},
     "outputs": [],
     "prompt_number": 33
    },
    {
     "cell_type": "code",
     "collapsed": false,
     "input": [
      "plt.subplot(121)\n",
      "plt.title('fara post-procesare')\n",
      "plt.imshow(im_nms0)\n",
      "plt.subplot(122)\n",
      "plt.title('cu post-procesare')\n",
      "plt.imshow(im_nms1)\n",
      "plt.show()"
     ],
     "language": "python",
     "metadata": {},
     "outputs": [],
     "prompt_number": 34
    },
    {
     "cell_type": "code",
     "collapsed": false,
     "input": [],
     "language": "python",
     "metadata": {},
     "outputs": []
    }
   ],
   "metadata": {}
  }
 ]
}
{
 "metadata": {
  "name": ""
 },
 "nbformat": 3,
 "nbformat_minor": 0,
 "worksheets": [
  {
   "cells": [
    {
     "cell_type": "code",
     "collapsed": false,
     "input": [
      "%pylab inline\n",
      "import sys, os, gc\n",
      "sys.path.append('../bin')\n",
      "sys.path.append('../3rd-party/opencv/python/2.7/x64')\n",
      "os.environ['PATH'] += (';../3rd-party/opencv/x64/vc12/bin;../3rd-party/opencv/python/2.7/x64')\n",
      "os.environ['PATH'] += (';../packages/boost_serialization-vc120.1.55.0.16/lib/native/address-model-64/lib')\n",
      "import cv2\n",
      "import pickle\n",
      "import unittest\n",
      "import difflib\n",
      "print 'My PID=', os.getpid()"
     ],
     "language": "python",
     "metadata": {},
     "outputs": [
      {
       "output_type": "stream",
       "stream": "stdout",
       "text": [
        "Populating the interactive namespace from numpy and matplotlib\n",
        "My PID= 9600\n"
       ]
      }
     ],
     "prompt_number": 17
    },
    {
     "cell_type": "code",
     "collapsed": false,
     "input": [
      "debug_ver = True\n",
      "if debug_ver:\n",
      "    import object_recognition_toolkitd as ort\n",
      "else:\n",
      "    import object_recognition_toolkit as ort"
     ],
     "language": "python",
     "metadata": {},
     "outputs": [],
     "prompt_number": 18
    },
    {
     "cell_type": "code",
     "collapsed": false,
     "input": [
      "m = ort.test_mat_return()\n",
      "print type(m)\n",
      "print m"
     ],
     "language": "python",
     "metadata": {},
     "outputs": [
      {
       "output_type": "stream",
       "stream": "stdout",
       "text": [
        "<type 'numpy.ndarray'>\n",
        "[[1 0 0]\n",
        " [0 1 0]\n",
        " [0 0 1]]\n"
       ]
      }
     ],
     "prompt_number": 15
    },
    {
     "cell_type": "code",
     "collapsed": false,
     "input": [
      "v = ort.test_mat_vec_return()\n",
      "print type(v)\n",
      "print v\n",
      "for vi in v:\n",
      "    print type(vi)\n",
      "    print vi"
     ],
     "language": "python",
     "metadata": {},
     "outputs": [
      {
       "output_type": "stream",
       "stream": "stdout",
       "text": [
        "<class 'object_recognition_toolkitd.MatrixVec'>\n",
        "<object_recognition_toolkitd.MatrixVec object at 0x0000000009BBDF48>\n",
        "<type 'numpy.ndarray'>\n",
        "[[1 0 0]\n",
        " [0 1 0]\n",
        " [0 0 1]]\n",
        "<type 'numpy.ndarray'>\n",
        "[[1 0 0 0]\n",
        " [0 1 0 0]\n",
        " [0 0 1 0]\n",
        " [0 0 0 1]]\n",
        "<type 'numpy.ndarray'>\n",
        "[[1 0 0 0 0]\n",
        " [0 1 0 0 0]\n",
        " [0 0 1 0 0]\n",
        " [0 0 0 1 0]\n",
        " [0 0 0 0 1]]\n"
       ]
      }
     ],
     "prompt_number": 16
    },
    {
     "cell_type": "code",
     "collapsed": false,
     "input": [],
     "language": "python",
     "metadata": {},
     "outputs": []
    }
   ],
   "metadata": {}
  }
 ]
}
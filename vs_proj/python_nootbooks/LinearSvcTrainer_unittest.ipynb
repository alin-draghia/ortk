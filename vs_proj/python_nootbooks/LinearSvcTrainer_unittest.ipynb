{
 "metadata": {
  "name": ""
 },
 "nbformat": 3,
 "nbformat_minor": 0,
 "worksheets": [
  {
   "cells": [
    {
     "cell_type": "code",
     "collapsed": false,
     "input": [
      "%pylab inline\n",
      "import sys, os, gc\n",
      "sys.path.append('../bin')\n",
      "os.environ['PATH'] += (';../3rd-party/opencv/x64/vc12/bin')\n",
      "os.environ['PATH'] += (';../packages/boost_serialization-vc120.1.55.0.16/lib/native/address-model-64/lib')\n",
      "import cv2\n",
      "import pickle\n",
      "import unittest\n",
      "import difflib\n",
      "print 'My PID=', os.getpid()"
     ],
     "language": "python",
     "metadata": {},
     "outputs": [
      {
       "output_type": "stream",
       "stream": "stdout",
       "text": [
        "Populating the interactive namespace from numpy and matplotlib\n",
        "My PID= 3632\n"
       ]
      }
     ],
     "prompt_number": 2
    },
    {
     "cell_type": "code",
     "collapsed": false,
     "input": [
      "debug_ver = True\n",
      "if debug_ver:\n",
      "    import object_recognition_toolkitd as ort\n",
      "else:\n",
      "    import object_recognition_toolkit as ort"
     ],
     "language": "python",
     "metadata": {},
     "outputs": [],
     "prompt_number": 3
    },
    {
     "cell_type": "code",
     "collapsed": false,
     "input": [
      "print dir(ort)"
     ],
     "language": "python",
     "metadata": {},
     "outputs": [
      {
       "output_type": "stream",
       "stream": "stdout",
       "text": [
        "['BoxVector', 'Classifier', 'Clonable', 'Detector', 'DetectorTrainer', 'FeatureExtractor', 'GroupRectanglesNms', 'ImageScanner', 'LinearClassifier', 'LinearSvcTrainer', 'MockPersonClassifier', 'Named', 'NonMaximaSuppressor', 'Pyramid', 'PyramidBuilder', 'PyramidLevel', 'Rect', 'Size', 'Trainer', 'VecF32', 'VecF64', 'VecI32', 'Window', 'WindowVector', '__doc__', '__file__', '__name__', '__package__', 'build_Detector', 'build_DetectorMT', 'create_DenseImageScanner', 'create_FloatPyramidBuilder', 'create_GroupRectanglesNms', 'create_HogFeatureExtractor', 'create_PassThroughNms']\n"
       ]
      }
     ],
     "prompt_number": 4
    },
    {
     "cell_type": "code",
     "collapsed": false,
     "input": [
      "trainer = ort.LinearSvcTrainer()"
     ],
     "language": "python",
     "metadata": {},
     "outputs": [],
     "prompt_number": 5
    },
    {
     "cell_type": "code",
     "collapsed": false,
     "input": [
      "print dir(trainer)"
     ],
     "language": "python",
     "metadata": {},
     "outputs": [
      {
       "output_type": "stream",
       "stream": "stdout",
       "text": [
        "['Clone', 'Train', '__class__', '__delattr__', '__dict__', '__doc__', '__format__', '__getattribute__', '__getstate__', '__hash__', '__init__', '__instance_size__', '__module__', '__new__', '__reduce__', '__reduce_ex__', '__repr__', '__safe_for_unpickling__', '__setattr__', '__setstate__', '__sizeof__', '__str__', '__subclasshook__', '__weakref__', 'name']\n"
       ]
      }
     ],
     "prompt_number": 6
    },
    {
     "cell_type": "code",
     "collapsed": false,
     "input": [
      "print trainer.name()"
     ],
     "language": "python",
     "metadata": {},
     "outputs": [
      {
       "output_type": "stream",
       "stream": "stdout",
       "text": [
        "LinearSvcTrainer::LinearSvcTrainer\n"
       ]
      }
     ],
     "prompt_number": 7
    },
    {
     "cell_type": "code",
     "collapsed": false,
     "input": [
      "labels = [1.0, -1.0, -1.0, -1.0]\n",
      "data = [[501,10],[255,10],[501,255],[10,501]]\n",
      "cls = trainer.Train(np.array(data, dtype='f32'), np.array(labels,dtype='f32'))"
     ],
     "language": "python",
     "metadata": {},
     "outputs": [],
     "prompt_number": 8
    },
    {
     "cell_type": "code",
     "collapsed": false,
     "input": [
      "cls.Predict(np.array([501,10],dtype='f32'))"
     ],
     "language": "python",
     "metadata": {},
     "outputs": [
      {
       "metadata": {},
       "output_type": "pyout",
       "prompt_number": 9,
       "text": [
        "0.9999999403953552"
       ]
      }
     ],
     "prompt_number": 9
    },
    {
     "cell_type": "code",
     "collapsed": false,
     "input": [
      "cls.Predict(np.array([255,10],dtype='f32'))"
     ],
     "language": "python",
     "metadata": {},
     "outputs": [
      {
       "metadata": {},
       "output_type": "pyout",
       "prompt_number": 10,
       "text": [
        "-1.0"
       ]
      }
     ],
     "prompt_number": 10
    },
    {
     "cell_type": "code",
     "collapsed": false,
     "input": [
      "pkl_str = pickle.dumps(cls)"
     ],
     "language": "python",
     "metadata": {},
     "outputs": [],
     "prompt_number": 11
    },
    {
     "cell_type": "code",
     "collapsed": false,
     "input": [
      "pkl_str"
     ],
     "language": "python",
     "metadata": {},
     "outputs": [
      {
       "metadata": {},
       "output_type": "pyout",
       "prompt_number": 12,
       "text": [
        "\"cobject_recognition_toolkitd\\nClassifier\\np0\\n(tRp1\\n(S'22 serialization::archive 10 1 65 object_recognition_toolkit::classification::LinearSvcClassifier__ 1 0\\\\n0 1 0\\\\n1 520 %YAML:1.0\\\\nmy_svm: !!opencv-ml-svm\\\\n   svm_type: C_SVC\\\\n   kernel: { type:LINEAR }\\\\n   C: 1.\\\\n   term_criteria: { epsilon:9.9999997473787516e-006, iterations:1000 }\\\\n   var_all: 2\\\\n   var_count: 2\\\\n   class_count: 2\\\\n   class_labels: !!opencv-matrix\\\\n      rows: 1\\\\n      cols: 2\\\\n      dt: i\\\\n      data: [ -1, 1 ]\\\\n   sv_total: 1\\\\n   support_vectors:\\\\n      - [ -8.13008100e-003, 8.16326495e-003 ]\\\\n   decision_functions:\\\\n      -\\\\n         sv_count: 1\\\\n         rho: -2.9915380786460894e+000\\\\n         alpha: [ 1. ]\\\\n         index: [ 0 ]\\\\n'\\np2\\ntp3\\nb.\""
       ]
      }
     ],
     "prompt_number": 12
    },
    {
     "cell_type": "code",
     "collapsed": false,
     "input": [
      "cls0 = pickle.loads(pkl_str)"
     ],
     "language": "python",
     "metadata": {},
     "outputs": [],
     "prompt_number": 13
    },
    {
     "cell_type": "code",
     "collapsed": false,
     "input": [
      "cls0.Predict(np.array([501,10],dtype='f32'))"
     ],
     "language": "python",
     "metadata": {},
     "outputs": [
      {
       "metadata": {},
       "output_type": "pyout",
       "prompt_number": 14,
       "text": [
        "0.9999999403953552"
       ]
      }
     ],
     "prompt_number": 14
    },
    {
     "cell_type": "code",
     "collapsed": false,
     "input": [
      "cls0.Predict(np.array([255,10],dtype='f32'))"
     ],
     "language": "python",
     "metadata": {},
     "outputs": [
      {
       "metadata": {},
       "output_type": "pyout",
       "prompt_number": 15,
       "text": [
        "-1.0"
       ]
      }
     ],
     "prompt_number": 15
    },
    {
     "cell_type": "code",
     "collapsed": false,
     "input": [],
     "language": "python",
     "metadata": {},
     "outputs": []
    }
   ],
   "metadata": {}
  }
 ]
}
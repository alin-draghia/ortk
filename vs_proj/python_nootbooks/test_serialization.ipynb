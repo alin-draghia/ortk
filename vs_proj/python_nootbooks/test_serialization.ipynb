{
 "metadata": {
  "name": ""
 },
 "nbformat": 3,
 "nbformat_minor": 0,
 "worksheets": [
  {
   "cells": [
    {
     "cell_type": "code",
     "collapsed": false,
     "input": [
      "%pylab inline\n",
      "import sys, os\n",
      "sys.path.append('../bin')\n",
      "os.environ['PATH'] += (';../3rd-party/opencv/x64/vc12/bin')\n",
      "os.environ['PATH'] += (';../packages/boost_serialization-vc120.1.55.0.16/lib/native/address-model-64/lib')\n",
      "import cv2\n",
      "import pickle\n",
      "import pprint\n",
      "import inspect\n",
      "debug_ver = True\n",
      "if debug_ver:\n",
      "    import object_recognition_toolkitd as ort\n",
      "else:\n",
      "    import object_recognition_toolkit as ort"
     ],
     "language": "python",
     "metadata": {},
     "outputs": [
      {
       "output_type": "stream",
       "stream": "stdout",
       "text": [
        "Populating the interactive namespace from numpy and matplotlib\n"
       ]
      }
     ],
     "prompt_number": 1
    },
    {
     "cell_type": "code",
     "collapsed": false,
     "input": [
      "#printing process id for debug atach\n",
      "print 'My PID=', os.getpid()"
     ],
     "language": "python",
     "metadata": {},
     "outputs": [
      {
       "output_type": "stream",
       "stream": "stdout",
       "text": [
        "My PID= 932\n"
       ]
      }
     ],
     "prompt_number": 2
    },
    {
     "cell_type": "code",
     "collapsed": false,
     "input": [
      "#test Size serialization\n",
      "s0 = ort.Size(13,95)\n",
      "dump0 = pickle.dumps(s0)\n",
      "s1 = pickle.loads(dump0)\n",
      "dump1 = pickle.dumps(s1)\n",
      "\n",
      "assert type(s0) == type(s1)\n",
      "assert s0.__class__ == s1.__class__\n",
      "assert dump0 == dump1\n",
      "print dump0"
     ],
     "language": "python",
     "metadata": {},
     "outputs": [
      {
       "output_type": "stream",
       "stream": "stdout",
       "text": [
        "cobject_recognition_toolkitd\n",
        "Size\n",
        "p0\n",
        "(I13\n",
        "I95\n",
        "tp1\n",
        "Rp2\n",
        ".\n"
       ]
      }
     ],
     "prompt_number": 3
    },
    {
     "cell_type": "code",
     "collapsed": false,
     "input": [
      "#test PyramidBuilder serialization\n",
      "pyr0 = ort.FloatPyramidBuilder(1.2, ort.Size(0,0), ort.Size(0,0))\n",
      "dump0 = pickle.dumps(pyr0)\n",
      "pyr1 = pickle.loads(dump0)\n",
      "dump1 = pickle.dumps(pyr1)\n",
      "assert type(pyr0) == type(pyr1)\n",
      "assert dump0 == dump1\n",
      "print dump0"
     ],
     "language": "python",
     "metadata": {},
     "outputs": [
      {
       "output_type": "stream",
       "stream": "stdout",
       "text": [
        "cobject_recognition_toolkitd\n",
        "FloatPyramidBuilder\n",
        "p0\n",
        "(tRp1\n",
        "(S'22 serialization::archive 10 1 0\\n0 1 0\\n1 1.2 0 0 0 0 0 0'\n",
        "p2\n",
        "tp3\n",
        "b.\n"
       ]
      }
     ],
     "prompt_number": 4
    },
    {
     "cell_type": "code",
     "collapsed": false,
     "input": [
      "#test PyramidBuilder subclass serialization\n",
      "class MyPyramidBuilder(ort.PyramidBuilder):\n",
      "\n",
      "  \n",
      "    def __init__(self, num):\n",
      "        ort.PyramidBuilder.__init__(self)\n",
      "        self.num = num\n",
      "        \n",
      "    def Build(self, image):\n",
      "        pyr = ort.Pyramid()\n",
      "        for s in range(self.num):\n",
      "            pyr.AddLevel(ort.PyramidLevel(image, 1.0//(2.0**float(s))))\n",
      "        return pyr\n",
      "    \n",
      "    #implement pickle support\n",
      "    def __reduce__(self):\n",
      "        initargs = (self.num, )\n",
      "        # this is not necesary, becouse num is an init arg, \n",
      "        # but for the sake of example :)\n",
      "        state = {'num': self.num} \n",
      "        return (MyPyramidBuilder, initargs, state, )\n",
      "    \n",
      "    def __setstate__(self, state):\n",
      "        self.num = state['num']\n",
      "        "
     ],
     "language": "python",
     "metadata": {},
     "outputs": [],
     "prompt_number": 5
    },
    {
     "cell_type": "code",
     "collapsed": false,
     "input": [
      "pyr0 = MyPyramidBuilder(3)\n",
      "dump0 = pickle.dumps(pyr0)\n",
      "pyr1 = pickle.loads(dump0)\n",
      "dump1 = pickle.dumps(pyr1)\n",
      "assert type(pyr0) == type(pyr1)\n",
      "assert dump0 == dump1\n",
      "print dump0"
     ],
     "language": "python",
     "metadata": {},
     "outputs": [
      {
       "output_type": "stream",
       "stream": "stdout",
       "text": [
        "c__main__\n",
        "MyPyramidBuilder\n",
        "p0\n",
        "(I3\n",
        "tp1\n",
        "Rp2\n",
        "(dp3\n",
        "S'num'\n",
        "p4\n",
        "I3\n",
        "sb.\n"
       ]
      }
     ],
     "prompt_number": 6
    },
    {
     "cell_type": "code",
     "collapsed": false,
     "input": [
      "im = eye(3,3)\n",
      "p0 = pyr0.Build(im)\n",
      "p0.GetNumLevels()"
     ],
     "language": "python",
     "metadata": {},
     "outputs": [
      {
       "metadata": {},
       "output_type": "pyout",
       "prompt_number": 7,
       "text": [
        "3"
       ]
      }
     ],
     "prompt_number": 7
    },
    {
     "cell_type": "code",
     "collapsed": false,
     "input": [
      "p1 = ort.PyramidBuilder_Build(pyr0, im)\n",
      "p1.GetNumLevels()"
     ],
     "language": "python",
     "metadata": {},
     "outputs": [
      {
       "metadata": {},
       "output_type": "pyout",
       "prompt_number": 8,
       "text": [
        "3"
       ]
      }
     ],
     "prompt_number": 8
    },
    {
     "cell_type": "code",
     "collapsed": false,
     "input": [
      "pyr0 = ort.FloatPyramidBuilder()\n",
      "pyr0.__class__"
     ],
     "language": "python",
     "metadata": {},
     "outputs": [
      {
       "metadata": {},
       "output_type": "pyout",
       "prompt_number": 12,
       "text": [
        "object_recognition_toolkitd.FloatPyramidBuilder"
       ]
      }
     ],
     "prompt_number": 12
    },
    {
     "cell_type": "code",
     "collapsed": false,
     "input": [
      "pyr1 = pyr0.__class__()"
     ],
     "language": "python",
     "metadata": {},
     "outputs": [],
     "prompt_number": 13
    },
    {
     "cell_type": "code",
     "collapsed": false,
     "input": [
      "type(pyr1)"
     ],
     "language": "python",
     "metadata": {},
     "outputs": [
      {
       "metadata": {},
       "output_type": "pyout",
       "prompt_number": 14,
       "text": [
        "object_recognition_toolkitd.FloatPyramidBuilder"
       ]
      }
     ],
     "prompt_number": 14
    },
    {
     "cell_type": "code",
     "collapsed": false,
     "input": [
      "pickle.dumps(pyr1)"
     ],
     "language": "python",
     "metadata": {},
     "outputs": [
      {
       "metadata": {},
       "output_type": "pyout",
       "prompt_number": 15,
       "text": [
        "\"cobject_recognition_toolkitd\\nFloatPyramidBuilder\\np0\\n(tRp1\\n(S'22 serialization::archive 10 1 0\\\\n0 1 0\\\\n1 6.2111300613400473e-316 0 0 0 0 0 0'\\np2\\ntp3\\nb.\""
       ]
      }
     ],
     "prompt_number": 15
    },
    {
     "cell_type": "code",
     "collapsed": false,
     "input": [],
     "language": "python",
     "metadata": {},
     "outputs": [],
     "prompt_number": 4
    },
    {
     "cell_type": "code",
     "collapsed": false,
     "input": [],
     "language": "python",
     "metadata": {},
     "outputs": [],
     "prompt_number": 4
    },
    {
     "cell_type": "code",
     "collapsed": false,
     "input": [],
     "language": "python",
     "metadata": {},
     "outputs": [],
     "prompt_number": 4
    },
    {
     "cell_type": "code",
     "collapsed": false,
     "input": [],
     "language": "python",
     "metadata": {},
     "outputs": []
    }
   ],
   "metadata": {}
  }
 ]
}
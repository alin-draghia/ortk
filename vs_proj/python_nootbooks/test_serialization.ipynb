{
 "metadata": {
  "name": ""
 },
 "nbformat": 3,
 "nbformat_minor": 0,
 "worksheets": [
  {
   "cells": [
    {
     "cell_type": "code",
     "collapsed": false,
     "input": [
      "%pylab inline\n",
      "import sys, os\n",
      "sys.path.append('../bin')\n",
      "os.environ['PATH'] += (';../3rd-party/opencv/x64/vc12/bin')\n",
      "os.environ['PATH'] += (';../packages/boost_serialization-vc120.1.55.0.16/lib/native/address-model-64/lib')\n",
      "import cv2\n",
      "import pickle"
     ],
     "language": "python",
     "metadata": {},
     "outputs": [
      {
       "output_type": "stream",
       "stream": "stdout",
       "text": [
        "Populating the interactive namespace from numpy and matplotlib\n"
       ]
      }
     ],
     "prompt_number": 1
    },
    {
     "cell_type": "code",
     "collapsed": false,
     "input": [
      "print 'My PID=', os.getpid()"
     ],
     "language": "python",
     "metadata": {},
     "outputs": [
      {
       "output_type": "stream",
       "stream": "stdout",
       "text": [
        "My PID= 5996\n"
       ]
      }
     ],
     "prompt_number": 2
    },
    {
     "cell_type": "code",
     "collapsed": false,
     "input": [
      "debug_ver = True\n",
      "if debug_ver:\n",
      "    import object_recognition_toolkitd as ort\n",
      "else:\n",
      "    import object_recognition_toolkit as ort\n",
      "\n",
      "print dir(ort)"
     ],
     "language": "python",
     "metadata": {},
     "outputs": [
      {
       "output_type": "stream",
       "stream": "stdout",
       "text": [
        "['BoxVector', 'Classifier', 'Clonable', 'Detector', 'DetectorTrainer', 'FeatureExtractor', 'GroupRectanglesNms', 'ImageScanner', 'LinearSVC', 'MockPersonClassifier', 'Named', 'NonMaximaSuppressor', 'Pyramid', 'PyramidBuilder', 'PyramidLevel', 'Rect', 'Size', 'Trainer', 'VecF32', 'VecF64', 'VecI32', 'Window', 'WindowVector', '__doc__', '__file__', '__name__', '__package__', 'build_Detector', 'build_DetectorMT', 'create_DenseImageScanner', 'create_FloatPyramidBuilder', 'create_GroupRectanglesNms', 'create_HogFeatureExtractor', 'create_PassThroughNms']\n"
       ]
      }
     ],
     "prompt_number": 3
    },
    {
     "cell_type": "code",
     "collapsed": false,
     "input": [
      "dir(ort.VecF32)\n",
      "ort.VecF32.__init__.__doc__\n",
      "v = ort.VecF32()\n",
      "v[:] = [1,2,3]\n",
      "np.array(v)"
     ],
     "language": "python",
     "metadata": {},
     "outputs": [
      {
       "metadata": {},
       "output_type": "pyout",
       "prompt_number": 4,
       "text": [
        "array([ 1.,  2.,  3.])"
       ]
      }
     ],
     "prompt_number": 4
    },
    {
     "cell_type": "code",
     "collapsed": false,
     "input": [
      "coefs = ort.VecF32()\n",
      "coefs[:] = [0.1, 0.1, 0.5]\n",
      "\n",
      "obj1 = ort.LinearSVC(0.5, coefs)\n",
      "print obj1.name()"
     ],
     "language": "python",
     "metadata": {},
     "outputs": [
      {
       "output_type": "stream",
       "stream": "stdout",
       "text": [
        "LinearSVC\n"
       ]
      }
     ],
     "prompt_number": 5
    },
    {
     "cell_type": "code",
     "collapsed": false,
     "input": [
      "print dir(obj1)\n",
      "print obj1.__setstate__.__doc__"
     ],
     "language": "python",
     "metadata": {},
     "outputs": [
      {
       "output_type": "stream",
       "stream": "stdout",
       "text": [
        "['Clone', 'Predict', '__class__', '__delattr__', '__dict__', '__doc__', '__format__', '__getattribute__', '__getstate__', '__hash__', '__init__', '__instance_size__', '__module__', '__new__', '__reduce__', '__reduce_ex__', '__repr__', '__safe_for_unpickling__', '__setattr__', '__setstate__', '__sizeof__', '__str__', '__subclasshook__', '__weakref__', 'name']\n",
        "\n",
        "__setstate__( (LinearSVC)arg1, (tuple)arg2) -> None :\n",
        "\n",
        "    C++ signature :\n",
        "        void __setstate__(class object_recognition_toolkit::classification::LinearSVC * __ptr64 {lvalue},class boost::python::tuple)\n"
       ]
      }
     ],
     "prompt_number": 6
    },
    {
     "cell_type": "code",
     "collapsed": false,
     "input": [
      "data = pickle.dumps(obj1)"
     ],
     "language": "python",
     "metadata": {},
     "outputs": [],
     "prompt_number": 7
    },
    {
     "cell_type": "code",
     "collapsed": false,
     "input": [
      "print data"
     ],
     "language": "python",
     "metadata": {},
     "outputs": [
      {
       "output_type": "stream",
       "stream": "stdout",
       "text": [
        "cobject_recognition_toolkitd\n",
        "LinearSVC\n",
        "p0\n",
        "(tRp1\n",
        "(S'22 serialization::archive 10 0 1 0\\n0 0.5 3 0 0.1 0.1 0.5 1 0\\n1'\n",
        "p2\n",
        "tp3\n",
        "b.\n"
       ]
      }
     ],
     "prompt_number": 8
    },
    {
     "cell_type": "code",
     "collapsed": false,
     "input": [
      "obj2 = pickle.loads(data)\n",
      "print obj2"
     ],
     "language": "python",
     "metadata": {},
     "outputs": [
      {
       "output_type": "stream",
       "stream": "stdout",
       "text": [
        "<object_recognition_toolkitd.LinearSVC object at 0x0000000009CD44A8>\n"
       ]
      }
     ],
     "prompt_number": 9
    },
    {
     "cell_type": "code",
     "collapsed": false,
     "input": [
      "print obj1\n",
      "print obj2\n",
      "print type(obj1)\n",
      "print type(obj2)"
     ],
     "language": "python",
     "metadata": {},
     "outputs": [
      {
       "output_type": "stream",
       "stream": "stdout",
       "text": [
        "<object_recognition_toolkitd.LinearSVC object at 0x0000000009CD40E8>\n",
        "<object_recognition_toolkitd.LinearSVC object at 0x0000000009CD44A8>\n",
        "<class 'object_recognition_toolkitd.LinearSVC'>\n",
        "<class 'object_recognition_toolkitd.LinearSVC'>\n"
       ]
      }
     ],
     "prompt_number": 10
    },
    {
     "cell_type": "code",
     "collapsed": false,
     "input": [
      "sample = np.array([1.0,2.0,3.0], dtype=np.float32).reshape(1,3);\n",
      "obj1.Predict(sample)"
     ],
     "language": "python",
     "metadata": {},
     "outputs": [
      {
       "metadata": {},
       "output_type": "pyout",
       "prompt_number": 11,
       "text": [
        "2.3000000044703484"
       ]
      }
     ],
     "prompt_number": 11
    },
    {
     "cell_type": "code",
     "collapsed": false,
     "input": [
      "obj2.Predict(sample)"
     ],
     "language": "python",
     "metadata": {},
     "outputs": [
      {
       "metadata": {},
       "output_type": "pyout",
       "prompt_number": 12,
       "text": [
        "2.3000000044703484"
       ]
      }
     ],
     "prompt_number": 12
    },
    {
     "cell_type": "code",
     "collapsed": false,
     "input": [
      "data2 = pickle.dumps(obj2)"
     ],
     "language": "python",
     "metadata": {},
     "outputs": [],
     "prompt_number": 13
    },
    {
     "cell_type": "code",
     "collapsed": false,
     "input": [
      "print data\n",
      "print data2"
     ],
     "language": "python",
     "metadata": {},
     "outputs": [
      {
       "output_type": "stream",
       "stream": "stdout",
       "text": [
        "cobject_recognition_toolkitd\n",
        "LinearSVC\n",
        "p0\n",
        "(tRp1\n",
        "(S'22 serialization::archive 10 0 1 0\\n0 0.5 3 0 0.1 0.1 0.5 1 0\\n1'\n",
        "p2\n",
        "tp3\n",
        "b.\n",
        "cobject_recognition_toolkitd\n",
        "LinearSVC\n",
        "p0\n",
        "(tRp1\n",
        "(S'22 serialization::archive 10 0 1 0\\n0 0.5 3 0 0.1 0.1 0.5 1 0\\n1'\n",
        "p2\n",
        "tp3\n",
        "b.\n"
       ]
      }
     ],
     "prompt_number": 14
    },
    {
     "cell_type": "code",
     "collapsed": false,
     "input": [
      "import difflib, pprint\n",
      "d = difflib.Differ()\n",
      "d_li = list(d.compare(data.splitlines(),data2.splitlines()))\n",
      "pprint.pprint(d_li)"
     ],
     "language": "python",
     "metadata": {},
     "outputs": [
      {
       "output_type": "stream",
       "stream": "stdout",
       "text": [
        "['  cobject_recognition_toolkitd',\n",
        " '  LinearSVC',\n",
        " '  p0',\n",
        " '  (tRp1',\n",
        " \"  (S'22 serialization::archive 10 0 1 0\\\\n0 0.5 3 0 0.1 0.1 0.5 1 0\\\\n1'\",\n",
        " '  p2',\n",
        " '  tp3',\n",
        " '  b.']\n"
       ]
      }
     ],
     "prompt_number": 15
    }
   ],
   "metadata": {}
  }
 ]
}
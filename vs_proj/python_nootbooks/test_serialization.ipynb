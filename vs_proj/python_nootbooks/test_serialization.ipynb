{
 "metadata": {
  "name": ""
 },
 "nbformat": 3,
 "nbformat_minor": 0,
 "worksheets": [
  {
   "cells": [
    {
     "cell_type": "code",
     "collapsed": false,
     "input": [
      "%pylab inline\n",
      "import sys, os\n",
      "sys.path.append('../bin')\n",
      "os.environ['PATH'] += (';../3rd-party/opencv/x64/vc12/bin')\n",
      "os.environ['PATH'] += (';../packages/boost_serialization-vc120.1.55.0.16/lib/native/address-model-64/lib')\n",
      "import cv2\n",
      "import pickle\n",
      "import pprint\n",
      "import inspect\n",
      "import object_recognition_toolkit as ort"
     ],
     "language": "python",
     "metadata": {},
     "outputs": [
      {
       "output_type": "stream",
       "stream": "stdout",
       "text": [
        "Populating the interactive namespace from numpy and matplotlib\n"
       ]
      }
     ],
     "prompt_number": 2
    },
    {
     "cell_type": "code",
     "collapsed": false,
     "input": [
      "#printing process id for debug atach\n",
      "print 'My PID=', os.getpid()"
     ],
     "language": "python",
     "metadata": {},
     "outputs": [
      {
       "output_type": "stream",
       "stream": "stdout",
       "text": [
        "My PID= 8500\n"
       ]
      }
     ],
     "prompt_number": 3
    },
    {
     "cell_type": "code",
     "collapsed": false,
     "input": [
      "#test Size serialization\n",
      "s0 = ort.Size(13,95)\n",
      "dump0 = pickle.dumps(s0)\n",
      "s1 = pickle.loads(dump0)\n",
      "dump1 = pickle.dumps(s1)\n",
      "\n",
      "assert type(s0) == type(s1)\n",
      "assert s0.__class__ == s1.__class__\n",
      "assert dump0 == dump1\n",
      "print dump0"
     ],
     "language": "python",
     "metadata": {},
     "outputs": [
      {
       "output_type": "stream",
       "stream": "stdout",
       "text": [
        "cobject_recognition_toolkitd_ext\n",
        "Size\n",
        "p0\n",
        "(I13\n",
        "I95\n",
        "tp1\n",
        "Rp2\n",
        ".\n"
       ]
      }
     ],
     "prompt_number": 4
    },
    {
     "cell_type": "code",
     "collapsed": false,
     "input": [
      "#test PyramidBuilder serialization\n",
      "pyr0 = ort.FloatPyramidBuilder(1.2, ort.Size(0,0), ort.Size(0,0))\n",
      "dump0 = pickle.dumps(pyr0)\n",
      "pyr1 = pickle.loads(dump0)\n",
      "dump1 = pickle.dumps(pyr1)\n",
      "assert type(pyr0) == type(pyr1)\n",
      "assert dump0 == dump1\n",
      "print dump0"
     ],
     "language": "python",
     "metadata": {},
     "outputs": [
      {
       "output_type": "stream",
       "stream": "stdout",
       "text": [
        "cobject_recognition_toolkitd_ext\n",
        "FloatPyramidBuilder\n",
        "p0\n",
        "(tRp1\n",
        "(S'22 serialization::archive 10 1 0\\n0 1 0\\n1 1.2 0 0 0 0 0 0'\n",
        "p2\n",
        "tp3\n",
        "b.\n"
       ]
      }
     ],
     "prompt_number": 5
    },
    {
     "cell_type": "code",
     "collapsed": false,
     "input": [
      "#test PyramidBuilder subclass serialization\n",
      "class MyPyramidBuilder(ort.PyramidBuilder):\n",
      "\n",
      "  \n",
      "    def __init__(self, num):\n",
      "        ort.PyramidBuilder.__init__(self)\n",
      "        self.num = num\n",
      "        \n",
      "    def Build(self, image):\n",
      "        pyr = ort.Pyramid()\n",
      "        for s in range(self.num):\n",
      "            pyr.AddLevel(ort.PyramidLevel(image, 1.0//(2.0**float(s))))\n",
      "        return pyr\n",
      "    \n",
      "    #implement pickle support\n",
      "    def __reduce__(self):\n",
      "        initargs = (self.num, )\n",
      "        # this is not necesary, becouse num is an init arg, \n",
      "        # but for the sake of example :)\n",
      "        state = {'num': self.num} \n",
      "        return (MyPyramidBuilder, initargs, state, )\n",
      "    \n",
      "    def __setstate__(self, state):\n",
      "        self.num = state['num']\n",
      "        "
     ],
     "language": "python",
     "metadata": {},
     "outputs": [],
     "prompt_number": 6
    },
    {
     "cell_type": "code",
     "collapsed": false,
     "input": [
      "pyr0 = MyPyramidBuilder(3)\n",
      "dump0 = pickle.dumps(pyr0)\n",
      "pyr1 = pickle.loads(dump0)\n",
      "dump1 = pickle.dumps(pyr1)\n",
      "assert type(pyr0) == type(pyr1)\n",
      "assert dump0 == dump1\n",
      "print dump0"
     ],
     "language": "python",
     "metadata": {},
     "outputs": [
      {
       "output_type": "stream",
       "stream": "stdout",
       "text": [
        "c__main__\n",
        "MyPyramidBuilder\n",
        "p0\n",
        "(I3\n",
        "tp1\n",
        "Rp2\n",
        "(dp3\n",
        "S'num'\n",
        "p4\n",
        "I3\n",
        "sb.\n"
       ]
      }
     ],
     "prompt_number": 7
    },
    {
     "cell_type": "code",
     "collapsed": false,
     "input": [
      "im = eye(3,3)\n",
      "p0 = pyr0.Build(im)\n",
      "p0.GetNumLevels()"
     ],
     "language": "python",
     "metadata": {},
     "outputs": [
      {
       "metadata": {},
       "output_type": "pyout",
       "prompt_number": 8,
       "text": [
        "3"
       ]
      }
     ],
     "prompt_number": 8
    },
    {
     "cell_type": "code",
     "collapsed": false,
     "input": [
      "p1 = ort.PyramidBuilder_Build(pyr0, im)\n",
      "p1.GetNumLevels()"
     ],
     "language": "python",
     "metadata": {},
     "outputs": [
      {
       "metadata": {},
       "output_type": "pyout",
       "prompt_number": 9,
       "text": [
        "3"
       ]
      }
     ],
     "prompt_number": 9
    },
    {
     "cell_type": "code",
     "collapsed": false,
     "input": [
      "pyr0 = ort.FloatPyramidBuilder()\n",
      "pyr0.__class__"
     ],
     "language": "python",
     "metadata": {},
     "outputs": [
      {
       "metadata": {},
       "output_type": "pyout",
       "prompt_number": 10,
       "text": [
        "object_recognition_toolkitd_ext.FloatPyramidBuilder"
       ]
      }
     ],
     "prompt_number": 10
    },
    {
     "cell_type": "code",
     "collapsed": false,
     "input": [
      "pyr1 = pyr0.__class__()"
     ],
     "language": "python",
     "metadata": {},
     "outputs": [],
     "prompt_number": 11
    },
    {
     "cell_type": "code",
     "collapsed": false,
     "input": [
      "type(pyr1)"
     ],
     "language": "python",
     "metadata": {},
     "outputs": [
      {
       "metadata": {},
       "output_type": "pyout",
       "prompt_number": 12,
       "text": [
        "object_recognition_toolkitd_ext.FloatPyramidBuilder"
       ]
      }
     ],
     "prompt_number": 12
    },
    {
     "cell_type": "code",
     "collapsed": false,
     "input": [
      "pickle.dumps(pyr1)"
     ],
     "language": "python",
     "metadata": {},
     "outputs": [
      {
       "metadata": {},
       "output_type": "pyout",
       "prompt_number": 13,
       "text": [
        "\"cobject_recognition_toolkitd_ext\\nFloatPyramidBuilder\\np0\\n(tRp1\\n(S'22 serialization::archive 10 1 0\\\\n0 1 0\\\\n1 7.9596659309613028e-316 0 0 0 0 0 0'\\np2\\ntp3\\nb.\""
       ]
      }
     ],
     "prompt_number": 13
    },
    {
     "cell_type": "code",
     "collapsed": false,
     "input": [
      "pb = ort.FloatPyramidBuilder(1.2, ort.Size(20,20), ort.Size())"
     ],
     "language": "python",
     "metadata": {},
     "outputs": [],
     "prompt_number": 64
    },
    {
     "cell_type": "code",
     "collapsed": false,
     "input": [
      "im = np.zeros((480,640), np.uint8)"
     ],
     "language": "python",
     "metadata": {},
     "outputs": [],
     "prompt_number": 65
    },
    {
     "cell_type": "code",
     "collapsed": false,
     "input": [
      "p = pb.Build(im)"
     ],
     "language": "python",
     "metadata": {},
     "outputs": [],
     "prompt_number": 66
    },
    {
     "cell_type": "code",
     "collapsed": false,
     "input": [
      "p.GetNumLevels()"
     ],
     "language": "python",
     "metadata": {},
     "outputs": [
      {
       "metadata": {},
       "output_type": "pyout",
       "prompt_number": 67,
       "text": [
        "18"
       ]
      }
     ],
     "prompt_number": 67
    },
    {
     "cell_type": "code",
     "collapsed": false,
     "input": [
      "num = log(1.0/20.0) / log(1.0/1.2)\n",
      "print num"
     ],
     "language": "python",
     "metadata": {},
     "outputs": [
      {
       "output_type": "stream",
       "stream": "stdout",
       "text": [
        "16.4310371534\n"
       ]
      }
     ],
     "prompt_number": 71
    },
    {
     "cell_type": "code",
     "collapsed": false,
     "input": [],
     "language": "python",
     "metadata": {},
     "outputs": [],
     "prompt_number": 60
    },
    {
     "cell_type": "code",
     "collapsed": false,
     "input": [
      "for l in range(p.GetNumLevels()):\n",
      "    ll = p.GetLevel(l)\n",
      "    print ll.GetImage().shape"
     ],
     "language": "python",
     "metadata": {},
     "outputs": [
      {
       "output_type": "stream",
       "stream": "stdout",
       "text": [
        "(480L, 640L)\n",
        "(400L, 533L)\n",
        "(333L, 444L)\n",
        "(278L, 370L)\n",
        "(231L, 309L)\n",
        "(193L, 257L)\n",
        "(161L, 214L)\n",
        "(134L, 179L)\n",
        "(112L, 149L)\n",
        "(93L, 124L)\n",
        "(78L, 103L)\n",
        "(65L, 86L)\n",
        "(54L, 72L)\n",
        "(45L, 60L)\n",
        "(37L, 50L)\n",
        "(31L, 42L)\n",
        "(26L, 35L)\n",
        "(22L, 29L)\n"
       ]
      }
     ],
     "prompt_number": 68
    },
    {
     "cell_type": "code",
     "collapsed": false,
     "input": [],
     "language": "python",
     "metadata": {},
     "outputs": []
    }
   ],
   "metadata": {}
  }
 ]
}
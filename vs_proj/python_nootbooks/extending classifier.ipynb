{
 "metadata": {
  "name": ""
 },
 "nbformat": 3,
 "nbformat_minor": 0,
 "worksheets": [
  {
   "cells": [
    {
     "cell_type": "code",
     "collapsed": false,
     "input": [
      "import sys, os\n",
      "sys.path.append('../bin')\n",
      "os.environ['PATH'] += (';../3rd-party/opencv/x64/vc12/bin')\n",
      "os.environ['PATH'] += (';../packages/boost_serialization-vc120.1.55.0.16/lib/native/address-model-64/lib')\n",
      "import cv2\n",
      "import pickle\n",
      "import pprint\n",
      "import inspect\n",
      "from sklearn.decomposition import PCA"
     ],
     "language": "python",
     "metadata": {},
     "outputs": [],
     "prompt_number": 1
    },
    {
     "cell_type": "code",
     "collapsed": false,
     "input": [
      "dir(PCA)"
     ],
     "language": "python",
     "metadata": {},
     "outputs": [
      {
       "metadata": {},
       "output_type": "pyout",
       "prompt_number": 5,
       "text": [
        "['__class__',\n",
        " '__delattr__',\n",
        " '__dict__',\n",
        " '__doc__',\n",
        " '__format__',\n",
        " '__getattribute__',\n",
        " '__hash__',\n",
        " '__init__',\n",
        " '__module__',\n",
        " '__new__',\n",
        " '__reduce__',\n",
        " '__reduce_ex__',\n",
        " '__repr__',\n",
        " '__setattr__',\n",
        " '__sizeof__',\n",
        " '__str__',\n",
        " '__subclasshook__',\n",
        " '__weakref__',\n",
        " '_fit',\n",
        " '_get_param_names',\n",
        " 'fit',\n",
        " 'fit_transform',\n",
        " 'get_params',\n",
        " 'inverse_transform',\n",
        " 'set_params',\n",
        " 'transform']"
       ]
      }
     ],
     "prompt_number": 5
    },
    {
     "cell_type": "code",
     "collapsed": false,
     "input": [
      "from my_svm import LinearSVM_Trainer"
     ],
     "language": "python",
     "metadata": {},
     "outputs": [],
     "prompt_number": 3
    },
    {
     "cell_type": "code",
     "collapsed": false,
     "input": [
      "from object_recognition_toolkit import *"
     ],
     "language": "python",
     "metadata": {},
     "outputs": [],
     "prompt_number": 2
    },
    {
     "cell_type": "code",
     "collapsed": false,
     "input": [
      "class PCA_SVM_Trainer(Trainer):\n",
      "    def __init__(self):\n",
      "        super(Trainer, self).__init__()\n",
      "        self.trainer = LinearSVM_Trainer(C=1.0)\n",
      "        self.pca = PCA()\n",
      "        return\n",
      "        \n",
      "    def Clone(self):\n",
      "        return pickle.loads(pickle.dumps(self))\n",
      "    \n",
      "    def Train(self, X, y):\n",
      "        X_redus = self.pca.fit_transform(X)\n",
      "        cls = self.trainer.Train(X_redus, y)\n",
      "        return cls\n",
      "    \n",
      "    #suport pentru serializare\n",
      "    def __reduce__(self):\n",
      "        initargs = tuple()\n",
      "        state = {'trainer': self.trainer, \n",
      "                 'pca': self.pca}\n",
      "        return (Trainer, initargs, state)\n",
      "    \n",
      "    def __setstate__(self, state):\n",
      "        self.trainer = state['trainer']\n",
      "        self.pca = state['pca']\n",
      "        return\n",
      "        "
     ],
     "language": "python",
     "metadata": {},
     "outputs": [],
     "prompt_number": 6
    },
    {
     "cell_type": "code",
     "collapsed": false,
     "input": [],
     "language": "python",
     "metadata": {},
     "outputs": []
    }
   ],
   "metadata": {}
  }
 ]
}
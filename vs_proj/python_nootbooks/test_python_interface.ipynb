{
 "metadata": {
  "name": ""
 },
 "nbformat": 3,
 "nbformat_minor": 0,
 "worksheets": [
  {
   "cells": [
    {
     "cell_type": "code",
     "collapsed": false,
     "input": [
      "ls"
     ],
     "language": "python",
     "metadata": {},
     "outputs": [
      {
       "output_type": "stream",
       "stream": "stdout",
       "text": [
        " Volume in drive D has no label.\n",
        " Volume Serial Number is DAB6-6ABB\n",
        "\n",
        " Directory of d:\\DEV.0\\object-recognition-toolkit\\bin\n",
        "\n",
        "06/04/2014  07:47 PM    <DIR>          .\n",
        "06/04/2014  07:47 PM    <DIR>          ..\n",
        "04/10/2014  11:12 AM                 0 .gitignore\n",
        "06/04/2014  05:57 PM    <DIR>          .ipynb_checkpoints\n",
        "05/02/2014  08:57 AM           823,296 boost_serialization-vc120-mt-gd-1_55.dll\n",
        "06/04/2014  05:55 PM                59 lunch_ipython_notebook.bat\n",
        "06/04/2014  10:59 AM    <SYMLINK>      object_recognition_toolkit.pyd [object-recognition-toolkitd.dll]\n",
        "05/30/2014  04:29 PM           701,952 object-recognition-toolkit.dll\n",
        "05/30/2014  04:29 PM         7,524,352 object-recognition-toolkit.pdb\n",
        "06/04/2014  07:47 PM         4,089,856 object-recognition-toolkitd.dll\n",
        "06/04/2014  07:47 PM        21,458,468 object-recognition-toolkitd.ilk\n",
        "06/04/2014  07:47 PM        27,455,488 object-recognition-toolkitd.pdb\n",
        "05/21/2014  03:14 PM         4,939,264 opencv_core248d.dll\n",
        "05/21/2014  03:16 PM         4,641,280 opencv_highgui248d.dll\n",
        "05/21/2014  03:14 PM         4,421,120 opencv_imgproc248d.dll\n",
        "05/21/2014  03:17 PM         1,362,432 opencv_ml248d.dll\n",
        "05/21/2014  03:17 PM         1,960,960 opencv_objdetect248d.dll\n",
        "04/10/2014  11:13 AM                 0 README.md\n",
        "06/04/2014  07:46 PM             7,723 test_python_interface.ipynb\n",
        "              16 File(s)     79,386,250 bytes\n",
        "               3 Dir(s)  154,145,685,504 bytes free\n"
       ]
      }
     ],
     "prompt_number": 1
    },
    {
     "cell_type": "code",
     "collapsed": false,
     "input": [
      "import object_recognition_toolkit\n",
      "dir(object_recognition_toolkit)\n",
      "\n",
      "object"
     ],
     "language": "python",
     "metadata": {},
     "outputs": [
      {
       "metadata": {},
       "output_type": "pyout",
       "prompt_number": 2,
       "text": [
        "['BoxVector',\n",
        " 'Classifier',\n",
        " 'Clonable',\n",
        " 'Detector',\n",
        " 'DetectorTrainer',\n",
        " 'DoubleVector',\n",
        " 'FeatureExtractor',\n",
        " 'ImageScanner',\n",
        " 'Named',\n",
        " 'NonMaximaSuppressor',\n",
        " 'Pyramid',\n",
        " 'PyramidBuilder',\n",
        " 'PyramidLevel',\n",
        " 'Trainer',\n",
        " 'Window',\n",
        " 'WindowVector',\n",
        " '__doc__',\n",
        " '__file__',\n",
        " '__name__',\n",
        " '__package__',\n",
        " 'build_Detector',\n",
        " 'build_DetectorMT',\n",
        " 'create_DenseImageScanner',\n",
        " 'create_FloatPyramidBuilder',\n",
        " 'create_HogFeatureExtractor',\n",
        " 'create_LinearSVC',\n",
        " 'create_LinearSvcTrainer',\n",
        " 'create_MockPersonClassifier',\n",
        " 'create_PassThroughNms',\n",
        " 'test_factory']"
       ]
      }
     ],
     "prompt_number": 2
    },
    {
     "cell_type": "code",
     "collapsed": false,
     "input": [
      "x = object_recognition_toolkit.test_factory()\n",
      "print x.name()"
     ],
     "language": "python",
     "metadata": {},
     "outputs": [
      {
       "output_type": "stream",
       "stream": "stdout",
       "text": [
        "HogFeatureExtractor\n"
       ]
      }
     ],
     "prompt_number": 3
    },
    {
     "cell_type": "code",
     "collapsed": false,
     "input": [
      "cls = object_recognition_toolkit.LinearSVC(0.5, [1.1,2.0,3.0])\n",
      "cls\n"
     ],
     "language": "python",
     "metadata": {},
     "outputs": [
      {
       "ename": "AttributeError",
       "evalue": "'module' object has no attribute 'LinearSVC'",
       "output_type": "pyerr",
       "traceback": [
        "\u001b[1;31m---------------------------------------------------------------------------\u001b[0m\n\u001b[1;31mAttributeError\u001b[0m                            Traceback (most recent call last)",
        "\u001b[1;32m<ipython-input-4-f7104703965f>\u001b[0m in \u001b[0;36m<module>\u001b[1;34m()\u001b[0m\n\u001b[1;32m----> 1\u001b[1;33m \u001b[0mcls\u001b[0m \u001b[1;33m=\u001b[0m \u001b[0mobject_recognition_toolkit\u001b[0m\u001b[1;33m.\u001b[0m\u001b[0mLinearSVC\u001b[0m\u001b[1;33m(\u001b[0m\u001b[1;36m0.5\u001b[0m\u001b[1;33m,\u001b[0m \u001b[1;33m[\u001b[0m\u001b[1;36m1.1\u001b[0m\u001b[1;33m,\u001b[0m\u001b[1;36m2.0\u001b[0m\u001b[1;33m,\u001b[0m\u001b[1;36m3.0\u001b[0m\u001b[1;33m]\u001b[0m\u001b[1;33m)\u001b[0m\u001b[1;33m\u001b[0m\u001b[0m\n\u001b[0m\u001b[0;32m      2\u001b[0m \u001b[0mcls\u001b[0m\u001b[1;33m\u001b[0m\u001b[0m\n",
        "\u001b[1;31mAttributeError\u001b[0m: 'module' object has no attribute 'LinearSVC'"
       ]
      }
     ],
     "prompt_number": 4
    },
    {
     "cell_type": "code",
     "collapsed": false,
     "input": [],
     "language": "python",
     "metadata": {},
     "outputs": []
    },
    {
     "cell_type": "code",
     "collapsed": false,
     "input": [
      "import numpy as np\n",
      "\n",
      "dir(object_recognition_toolkit.LinearSVC)\n",
      "object_recognition_toolkit.LinearSVC.__init__.__doc__\n",
      "\n",
      "\n",
      "cls = object_recognition_toolkit.LinearSVC(1.2, np.array([1.,2.,3, 3], dtype=np.float32))"
     ],
     "language": "python",
     "metadata": {},
     "outputs": []
    },
    {
     "cell_type": "code",
     "collapsed": false,
     "input": [
      "object_recognition_toolkit.print_vector(np.array([1.,2.,3.], dtype=np.float32))\n"
     ],
     "language": "python",
     "metadata": {},
     "outputs": []
    },
    {
     "cell_type": "code",
     "collapsed": false,
     "input": [
      "from object_recognition_toolkit import FloatVec, print_vector\n",
      "dir(FloatVec)\n",
      "v = FloatVec()\n",
      "v[:] = [1,2,3]\n",
      "print_vector(v)"
     ],
     "language": "python",
     "metadata": {},
     "outputs": []
    },
    {
     "cell_type": "code",
     "collapsed": false,
     "input": [
      "import numpy as np\n",
      "coefs = np.array([1.2, 3.0], dtype=np.float32).reshape(1,-1)\n",
      "print coefs.shape\n",
      "coefs\n",
      "\n",
      "cls = object_recognition_toolkit.create_LinearSVC(1.2, coefs)"
     ],
     "language": "python",
     "metadata": {},
     "outputs": [
      {
       "output_type": "stream",
       "stream": "stdout",
       "text": [
        "(1L, 2L)\n"
       ]
      }
     ],
     "prompt_number": 20
    },
    {
     "cell_type": "code",
     "collapsed": false,
     "input": [
      "cls.Predict(np.array([1.2, 1.0],dtype=np.float32))\n"
     ],
     "language": "python",
     "metadata": {},
     "outputs": [
      {
       "ename": "ArgumentError",
       "evalue": "Python argument types in\n    Classifier.Predict(Classifier, numpy.ndarray)\ndid not match C++ signature:\n    Predict(struct object_recognition_toolkit::classification::Classifier_Wrapper {lvalue}, class cv::Mat)\n    Predict(class object_recognition_toolkit::classification::Classifier {lvalue}, class cv::Mat)",
       "output_type": "pyerr",
       "traceback": [
        "\u001b[1;31m---------------------------------------------------------------------------\u001b[0m\n\u001b[1;31mArgumentError\u001b[0m                             Traceback (most recent call last)",
        "\u001b[1;32m<ipython-input-23-a3aacd43c0d1>\u001b[0m in \u001b[0;36m<module>\u001b[1;34m()\u001b[0m\n\u001b[1;32m----> 1\u001b[1;33m \u001b[0mcls\u001b[0m\u001b[1;33m.\u001b[0m\u001b[0mPredict\u001b[0m\u001b[1;33m(\u001b[0m\u001b[0mnp\u001b[0m\u001b[1;33m.\u001b[0m\u001b[0marray\u001b[0m\u001b[1;33m(\u001b[0m\u001b[1;33m[\u001b[0m\u001b[1;36m1.2\u001b[0m\u001b[1;33m,\u001b[0m \u001b[1;36m1.0\u001b[0m\u001b[1;33m]\u001b[0m\u001b[1;33m,\u001b[0m\u001b[0mdtype\u001b[0m\u001b[1;33m=\u001b[0m\u001b[0mnp\u001b[0m\u001b[1;33m.\u001b[0m\u001b[0mfloat32\u001b[0m\u001b[1;33m)\u001b[0m\u001b[1;33m)\u001b[0m\u001b[1;33m\u001b[0m\u001b[0m\n\u001b[0m",
        "\u001b[1;31mArgumentError\u001b[0m: Python argument types in\n    Classifier.Predict(Classifier, numpy.ndarray)\ndid not match C++ signature:\n    Predict(struct object_recognition_toolkit::classification::Classifier_Wrapper {lvalue}, class cv::Mat)\n    Predict(class object_recognition_toolkit::classification::Classifier {lvalue}, class cv::Mat)"
       ]
      }
     ],
     "prompt_number": 23
    },
    {
     "cell_type": "code",
     "collapsed": false,
     "input": [],
     "language": "python",
     "metadata": {},
     "outputs": []
    }
   ],
   "metadata": {}
  }
 ]
}